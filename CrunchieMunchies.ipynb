{
  "nbformat": 4,
  "nbformat_minor": 0,
  "metadata": {
    "colab": {
      "provenance": [],
      "authorship_tag": "ABX9TyPvz6/1jT9sCZP3mAJenEUT",
      "include_colab_link": true
    },
    "kernelspec": {
      "name": "python3",
      "display_name": "Python 3"
    },
    "language_info": {
      "name": "python"
    }
  },
  "cells": [
    {
      "cell_type": "markdown",
      "metadata": {
        "id": "view-in-github",
        "colab_type": "text"
      },
      "source": [
        "<a href=\"https://colab.research.google.com/github/Diego20051219/Actividad_CrunchieMunchies/blob/main/CrunchieMunchies.ipynb\" target=\"_parent\"><img src=\"https://colab.research.google.com/assets/colab-badge.svg\" alt=\"Open In Colab\"/></a>"
      ]
    },
    {
      "cell_type": "markdown",
      "source": [
        "Actividad CrunchieMunchies\n",
        "\n",
        "Fecha: 22 de Abril de 2024\n",
        "\n",
        "Presentado por: Diego Andres Miranda Fernandez\n",
        "\n",
        "Email: diego.mirandaf@upb.edu.co"
      ],
      "metadata": {
        "id": "ONDNxLeN3SK3"
      }
    },
    {
      "cell_type": "code",
      "execution_count": null,
      "metadata": {
        "id": "Hetv7twsdvVO"
      },
      "outputs": [],
      "source": [
        "import numpy as np\n",
        "calorie_stats = np.genfromtxt(\"cereal.csv\", delimiter=\",\")\n",
        "average_calories = np.array(calorie_stats)\n",
        "average_calories = np.mean(average_calories)\n",
        "print(f\"El Promedio es: {average_calories}\")\n",
        "print()\n",
        "average_calories = np.sort(calorie_stats)\n",
        "print(f\"Datos Organizados: {average_calories}\")\n",
        "print()\n",
        "median_calories = np.median(average_calories)\n",
        "print(f\"La Mediana es: {median_calories}\")\n",
        "print()"
      ]
    }
  ]
}