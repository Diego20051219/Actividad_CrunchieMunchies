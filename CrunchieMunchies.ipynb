{
  "nbformat": 4,
  "nbformat_minor": 0,
  "metadata": {
    "colab": {
      "provenance": [],
      "authorship_tag": "ABX9TyO6DVLnEmdbvcT3480CVrj7",
      "include_colab_link": true
    },
    "kernelspec": {
      "name": "python3",
      "display_name": "Python 3"
    },
    "language_info": {
      "name": "python"
    }
  },
  "cells": [
    {
      "cell_type": "markdown",
      "metadata": {
        "id": "view-in-github",
        "colab_type": "text"
      },
      "source": [
        "<a href=\"https://colab.research.google.com/github/Diego20051219/Actividad_CrunchieMunchies/blob/main/CrunchieMunchies.ipynb\" target=\"_parent\"><img src=\"https://colab.research.google.com/assets/colab-badge.svg\" alt=\"Open In Colab\"/></a>"
      ]
    },
    {
      "cell_type": "markdown",
      "source": [
        "Actividad CrunchieMunchies\n",
        "\n",
        "Fecha: 22 de Abril de 2024\n",
        "\n",
        "Presentado por: Diego Andres Miranda Fernandez\n",
        "\n",
        "Email: diego.mirandaf@upb.edu.co\n",
        "\n",
        "ID: 000537610"
      ],
      "metadata": {
        "id": "ONDNxLeN3SK3"
      }
    },
    {
      "cell_type": "code",
      "execution_count": 3,
      "metadata": {
        "id": "Hetv7twsdvVO",
        "outputId": "4f4319dd-5f2c-4fd0-f495-ac4df5411039",
        "colab": {
          "base_uri": "https://localhost:8080/"
        }
      },
      "outputs": [
        {
          "output_type": "stream",
          "name": "stdout",
          "text": [
            "Calorias reportadas por otras marcas de cereales\n",
            "[ 50.  50.  50.  70.  70.  80.  90.  90.  90.  90.  90.  90.  90. 100.\n",
            " 100. 100. 100. 100. 100. 100. 100. 100. 100. 100. 100. 100. 100. 100.\n",
            " 100. 100. 110. 110. 110. 110. 110. 110. 110. 110. 110. 110. 110. 110.\n",
            " 110. 110. 110. 110. 110. 110. 110. 110. 110. 110. 110. 110. 110. 110.\n",
            " 110. 110. 110. 120. 120. 120. 120. 120. 120. 120. 120. 120. 120. 130.\n",
            " 130. 140. 140. 140. 150. 150. 160.]\n",
            "\n",
            "Calorías promedio de otras marcas: 106.88 calorías.\n",
            "\n",
            "Calorias en CrunchieMunchies: 60 calorías.\n",
            "\n",
            "CrunchieMunchies tiene 46.88 menos que el promedio\n",
            "\n",
            "La Mediana de calorias: 110.00 calorías.\n",
            "\n",
            "El percentil 4% : 70.00 calorías.\n",
            "\n",
            "el 96.10% de cereales tienen más de 60 calorías por porción\n",
            "\n",
            "Desviación estándar de las calorías: 19.36\n"
          ]
        }
      ],
      "source": [
        "import numpy as np\n",
        "# Pasamos la lista que esta en cereal.cvs a calorie_stats\n",
        "calorie_stats = np.genfromtxt(\"/content/cereal.csv\", delimiter=\",\")\n",
        "# calorie_stats es pasada por la funcion array\n",
        "calories_array = np.array(calorie_stats)\n",
        "# calcular el promedio de calories_stats\n",
        "average_calories =  np.mean(calorie_stats)\n",
        "# Organiza los datos de menor a mayor que esta en average_calories\n",
        "average_calorie = np.sort(calorie_stats)\n",
        "# calcular la mediana de average_calorie\n",
        "median_calorie = np.median(average_calorie)\n",
        "# utlizamos un ciclo for para calcular percentil que sea menor que 60\n",
        "for i in range(1, 101):\n",
        "    percentil = np.percentile(calories_array, i)\n",
        "    if percentil > 60:\n",
        "        nth_percentile = percentil\n",
        "        break\n",
        "# calcular el porcentaje de calorias por porcion\n",
        "more_calories = (len(calories_array[calories_array > 60])) / len(calories_array) * 100\n",
        "# calcular la desviacion estandar de calorias\n",
        "calorie_std = np.std(calories_array)\n",
        "# imprimimos average_calorie\n",
        "print(\"Calorias reportadas por otras marcas de cereales\")\n",
        "print(average_calorie)\n",
        "print()\n",
        "# imprimimos average_calories y se le agrega :.2f para que solo se impriman dos decimales despues del punto\n",
        "print(f\"Calorías promedio de otras marcas: {average_calories:.2f} calorías.\")\n",
        "print()\n",
        "# imprimimos las calorias de CrunchieMunchies\n",
        "print(\"Calorias en CrunchieMunchies: 60 calorías.\")\n",
        "print()\n",
        "# imprimimos average_calories - 60\n",
        "print(f\"CrunchieMunchies tiene {average_calories - 60:.2f} menos que el promedio\")\n",
        "print()\n",
        "# imprimos median_calorie\n",
        "print(f\"La Mediana de calorias: {median_calorie:.2f} calorías.\")\n",
        "print()\n",
        "# imprimimos nth_percentile\n",
        "print(f\"El percentil 4% : {nth_percentile:.2f} calorías.\")\n",
        "print()\n",
        "# imprimimos more_calories\n",
        "print(f\"el {more_calories:.2f}% de cereales tienen más de 60 calorías por porción\")\n",
        "print()\n",
        "# imprimimos calorie_std\n",
        "print(f\"Desviación estándar de las calorías: {calorie_std:.2f}\")"
      ]
    },
    {
      "cell_type": "code",
      "source": [],
      "metadata": {
        "id": "ee8V-ZZURyci"
      },
      "execution_count": null,
      "outputs": []
    }
  ]
}